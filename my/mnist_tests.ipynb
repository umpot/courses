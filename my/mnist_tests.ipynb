{
 "cells": [
  {
   "cell_type": "code",
   "execution_count": 8,
   "metadata": {},
   "outputs": [],
   "source": [
    "%matplotlib inline\n",
    "%config IPCompleter.greedy=True\n",
    "from keras.datasets import mnist\n",
    "from sklearn.preprocessing import OneHotEncoder\n",
    "from keras.models import Sequential\n",
    "from keras.layers.core import Lambda, Dense, Flatten, Dropout, Reshape\n",
    "from keras.layers.normalization import BatchNormalization\n",
    "from keras.layers.pooling import MaxPooling2D\n",
    "from keras.layers.convolutional import Conv2D\n",
    "from keras.optimizers import Adam\n",
    "\n",
    "import matplotlib.pyplot as plt\n",
    "\n",
    "def one_hot(train, test):\n",
    "    encoder = OneHotEncoder()\n",
    "    train = encoder.fit_transform(train.reshape(len(train), 1))\n",
    "    test = encoder.transform(test.reshape(len(test), 1))\n",
    "\n",
    "    return train, test"
   ]
  },
  {
   "cell_type": "code",
   "execution_count": 2,
   "metadata": {},
   "outputs": [
    {
     "name": "stdout",
     "output_type": "stream",
     "text": [
      "Downloading data from https://s3.amazonaws.com/img-datasets/mnist.npz\n"
     ]
    }
   ],
   "source": [
    "(train_arr, train_labels), (test_arr, test_labels) = mnist.load_data()\n",
    "train_target, test_target = one_hot(train_labels, test_labels)\n",
    "train_target, test_target= train_target.toarray(), test_target.toarray()\n",
    "\n",
    "dt_mean = train_arr.mean()\n",
    "dt_std = train_arr.std()\n",
    "\n",
    "def norm_input(x):\n",
    "    return (x-dt_mean)/dt_std"
   ]
  },
  {
   "cell_type": "code",
   "execution_count": 10,
   "metadata": {},
   "outputs": [
    {
     "name": "stdout",
     "output_type": "stream",
     "text": [
      "Train on 60000 samples, validate on 10000 samples\n",
      "Epoch 1/10\n",
      "18s - loss: 0.1431 - acc: 0.9563 - val_loss: 0.1565 - val_acc: 0.9527\n",
      "Epoch 2/10\n",
      "18s - loss: 0.0702 - acc: 0.9785 - val_loss: 0.0826 - val_acc: 0.9761\n",
      "Epoch 3/10\n",
      "19s - loss: 0.0548 - acc: 0.9825 - val_loss: 0.0945 - val_acc: 0.9712\n",
      "Epoch 4/10\n",
      "18s - loss: 0.0463 - acc: 0.9856 - val_loss: 0.0705 - val_acc: 0.9786\n",
      "Epoch 5/10\n",
      "18s - loss: 0.0382 - acc: 0.9880 - val_loss: 0.1161 - val_acc: 0.9668\n",
      "Epoch 6/10\n",
      "18s - loss: 0.0317 - acc: 0.9896 - val_loss: 0.0568 - val_acc: 0.9835\n",
      "Epoch 7/10\n",
      "18s - loss: 0.0270 - acc: 0.9915 - val_loss: 0.0724 - val_acc: 0.9801\n",
      "Epoch 8/10\n",
      "18s - loss: 0.0238 - acc: 0.9922 - val_loss: 0.0576 - val_acc: 0.9858\n",
      "Epoch 9/10\n",
      "18s - loss: 0.0228 - acc: 0.9927 - val_loss: 0.9986 - val_acc: 0.7849\n",
      "Epoch 10/10\n",
      "18s - loss: 0.0218 - acc: 0.9928 - val_loss: 0.0729 - val_acc: 0.9821\n"
     ]
    }
   ],
   "source": [
    "model = Sequential()\n",
    "model.add(Lambda(norm_input, output_shape=(28, 28), input_shape=(28, 28)))\n",
    "model.add(Reshape((28,28,1)))\n",
    "model.add(Conv2D(32, (3,3)))\n",
    "model.add(MaxPooling2D(pool_size=(2, 2)))\n",
    "model.add(Conv2D(64, (3,3)))\n",
    "model.add(MaxPooling2D(pool_size=(2, 2)))\n",
    "model.add(Conv2D(128, (3,3)))\n",
    "model.add(MaxPooling2D(pool_size=(2, 2)))\n",
    "model.add(Flatten())\n",
    "model.add(Dense(300, activation='relu'))\n",
    "model.add(BatchNormalization())\n",
    "model.add(Dense(10, activation='softmax'))\n",
    "\n",
    "model.compile(Adam(), loss='categorical_crossentropy', metrics=['accuracy'])\n",
    "\n",
    "h = model.fit(train_arr, train_target, epochs=10, validation_data=(test_arr, test_target), verbose=2)"
   ]
  },
  {
   "cell_type": "code",
   "execution_count": null,
   "metadata": {
    "collapsed": true
   },
   "outputs": [],
   "source": [
    ""
   ]
  }
 ],
 "metadata": {
  "kernelspec": {
   "display_name": "Python 2",
   "language": "python",
   "name": "python2"
  },
  "language_info": {
   "codemirror_mode": {
    "name": "ipython",
    "version": 2.0
   },
   "file_extension": ".py",
   "mimetype": "text/x-python",
   "name": "python",
   "nbconvert_exporter": "python",
   "pygments_lexer": "ipython2",
   "version": "2.7.6"
  }
 },
 "nbformat": 4,
 "nbformat_minor": 0
}