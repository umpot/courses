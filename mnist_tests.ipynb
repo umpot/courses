{
 "cells": [
  {
   "cell_type": "code",
   "execution_count": null,
   "metadata": {
    "collapsed": true
   },
   "outputs": [],
   "source": [
    "%matplotlib inline\n",
    "from keras.datasets import mnist\n",
    "from sklearn.preprocessing import OneHotEncoder\n",
    "from keras.models import Sequential\n",
    "from keras.layers.core import Lambda, Dense, Flatten, Dropout, Reshape\n",
    "from keras.layers.normalization import BatchNormalization\n",
    "from keras.layers.convolutional import Conv2D\n",
    "from keras.optimizers import Adam\n",
    "\n",
    "import matplotlib.pyplot as plt\n",
    "\n",
    "def one_hot(train, test):\n",
    "    encoder = OneHotEncoder()\n",
    "    train = encoder.fit_transform(train.reshape(len(train), 1))\n",
    "    test = encoder.transform(test.reshape(len(test), 1))\n",
    "\n",
    "    return train, test"
   ]
  },
  {
   "cell_type": "code",
   "execution_count": null,
   "metadata": {
    "collapsed": true
   },
   "outputs": [],
   "source": [
    "(train_arr, train_labels), (test_arr, test_labels) = mnist.load_data()\n",
    "train_target, test_target = one_hot(train_labels, test_labels)\n",
    "train_target, test_target= train_target.toarray(), test_target.toarray()\n",
    "\n",
    "dt_mean = train_arr.mean()\n",
    "dt_std = train_arr.std()\n",
    "\n",
    "def norm_input(x):\n",
    "    return (x-dt_mean)/dt_std"
   ]
  },
  {
   "cell_type": "code",
   "execution_count": null,
   "metadata": {},
   "outputs": [],
   "source": [
    "model = Sequential()\n",
    "model.add(Lambda(norm_input, output_shape=(28, 28), input_shape=(28, 28)))\n",
    "model.add(Reshape((28,28,1)))\n",
    "model.add(Conv2D(128, (3,3)))\n",
    "model.add(Flatten())\n",
    "model.add(Dense(300, activation='relu'))\n",
    "model.add(BatchNormalization())\n",
    "model.add(Dense(10, activation='softmax'))\n",
    "\n",
    "model.compile(Adam(), loss='categorical_crossentropy', metrics=['accuracy'])\n",
    "\n",
    "h = model.fit(train_arr, train_target, epochs=10, validation_data=(test_arr, test_target), verbose=2)"
   ]
  }
 ],
 "metadata": {
  "kernelspec": {
   "display_name": "Python 2",
   "language": "python",
   "name": "python2"
  },
  "language_info": {
   "codemirror_mode": {
    "name": "ipython",
    "version": 2.0
   },
   "file_extension": ".py",
   "mimetype": "text/x-python",
   "name": "python",
   "nbconvert_exporter": "python",
   "pygments_lexer": "ipython2",
   "version": "2.7.6"
  }
 },
 "nbformat": 4,
 "nbformat_minor": 0
}